{
 "cells": [
  {
   "cell_type": "code",
   "execution_count": 13,
   "id": "89ba49b4",
   "metadata": {
    "_cell_guid": "b1076dfc-b9ad-4769-8c92-a6c4dae69d19",
    "_uuid": "8f2839f25d086af736a60e9eeb907d3b93b6e0e5",
    "execution": {
     "iopub.execute_input": "2021-09-18T21:30:25.268007Z",
     "iopub.status.busy": "2021-09-18T21:30:25.262279Z",
     "iopub.status.idle": "2021-09-18T21:30:25.283550Z",
     "shell.execute_reply": "2021-09-18T21:30:25.282492Z",
     "shell.execute_reply.started": "2021-09-18T21:22:07.461011Z"
    },
    "papermill": {
     "duration": 0.05748,
     "end_time": "2021-09-18T21:30:25.283806",
     "exception": false,
     "start_time": "2021-09-18T21:30:25.226326",
     "status": "completed"
    },
    "tags": []
   },
   "outputs": [
    {
     "name": "stdout",
     "output_type": "stream",
     "text": [
      "Kannada-MNIST\\test.csv\n",
      "Kannada-MNIST\\train.csv\n"
     ]
    }
   ],
   "source": [
    "import numpy as np # linear algebra\n",
    "import pandas as pd # data processing, CSV file I/O (e.g. pd.read_csv)\n",
    "\n",
    "import os\n",
    "for dirname, _, filenames in os.walk('Kannada-MNIST'):\n",
    "    for filename in filenames:\n",
    "        print(os.path.join(dirname, filename))"
   ]
  },
  {
   "cell_type": "markdown",
   "id": "7bdc7bb4",
   "metadata": {
    "papermill": {
     "duration": 0.037698,
     "end_time": "2021-09-18T21:30:25.354836",
     "exception": false,
     "start_time": "2021-09-18T21:30:25.317138",
     "status": "completed"
    },
    "tags": []
   },
   "source": [
    "## Inspect datasets"
   ]
  },
  {
   "cell_type": "code",
   "execution_count": 4,
   "id": "2eda6d7d",
   "metadata": {
    "execution": {
     "iopub.execute_input": "2021-09-18T21:30:25.427807Z",
     "iopub.status.busy": "2021-09-18T21:30:25.426673Z",
     "iopub.status.idle": "2021-09-18T21:30:31.933549Z",
     "shell.execute_reply": "2021-09-18T21:30:31.932849Z",
     "shell.execute_reply.started": "2021-09-18T21:22:07.481069Z"
    },
    "papermill": {
     "duration": 6.537524,
     "end_time": "2021-09-18T21:30:31.933709",
     "exception": false,
     "start_time": "2021-09-18T21:30:25.396185",
     "status": "completed"
    },
    "tags": []
   },
   "outputs": [
    {
     "data": {
      "text/html": [
       "<div>\n",
       "<style scoped>\n",
       "    .dataframe tbody tr th:only-of-type {\n",
       "        vertical-align: middle;\n",
       "    }\n",
       "\n",
       "    .dataframe tbody tr th {\n",
       "        vertical-align: top;\n",
       "    }\n",
       "\n",
       "    .dataframe thead th {\n",
       "        text-align: right;\n",
       "    }\n",
       "</style>\n",
       "<table border=\"1\" class=\"dataframe\">\n",
       "  <thead>\n",
       "    <tr style=\"text-align: right;\">\n",
       "      <th></th>\n",
       "      <th>label</th>\n",
       "      <th>pixel0</th>\n",
       "      <th>pixel1</th>\n",
       "      <th>pixel2</th>\n",
       "      <th>pixel3</th>\n",
       "      <th>pixel4</th>\n",
       "      <th>pixel5</th>\n",
       "      <th>pixel6</th>\n",
       "      <th>pixel7</th>\n",
       "      <th>pixel8</th>\n",
       "      <th>...</th>\n",
       "      <th>pixel774</th>\n",
       "      <th>pixel775</th>\n",
       "      <th>pixel776</th>\n",
       "      <th>pixel777</th>\n",
       "      <th>pixel778</th>\n",
       "      <th>pixel779</th>\n",
       "      <th>pixel780</th>\n",
       "      <th>pixel781</th>\n",
       "      <th>pixel782</th>\n",
       "      <th>pixel783</th>\n",
       "    </tr>\n",
       "  </thead>\n",
       "  <tbody>\n",
       "    <tr>\n",
       "      <th>59995</th>\n",
       "      <td>5</td>\n",
       "      <td>0</td>\n",
       "      <td>0</td>\n",
       "      <td>0</td>\n",
       "      <td>0</td>\n",
       "      <td>0</td>\n",
       "      <td>0</td>\n",
       "      <td>0</td>\n",
       "      <td>0</td>\n",
       "      <td>0</td>\n",
       "      <td>...</td>\n",
       "      <td>0</td>\n",
       "      <td>0</td>\n",
       "      <td>0</td>\n",
       "      <td>0</td>\n",
       "      <td>0</td>\n",
       "      <td>0</td>\n",
       "      <td>0</td>\n",
       "      <td>0</td>\n",
       "      <td>0</td>\n",
       "      <td>0</td>\n",
       "    </tr>\n",
       "    <tr>\n",
       "      <th>59996</th>\n",
       "      <td>6</td>\n",
       "      <td>0</td>\n",
       "      <td>0</td>\n",
       "      <td>0</td>\n",
       "      <td>0</td>\n",
       "      <td>0</td>\n",
       "      <td>0</td>\n",
       "      <td>0</td>\n",
       "      <td>0</td>\n",
       "      <td>0</td>\n",
       "      <td>...</td>\n",
       "      <td>0</td>\n",
       "      <td>0</td>\n",
       "      <td>0</td>\n",
       "      <td>0</td>\n",
       "      <td>0</td>\n",
       "      <td>0</td>\n",
       "      <td>0</td>\n",
       "      <td>0</td>\n",
       "      <td>0</td>\n",
       "      <td>0</td>\n",
       "    </tr>\n",
       "    <tr>\n",
       "      <th>59997</th>\n",
       "      <td>7</td>\n",
       "      <td>0</td>\n",
       "      <td>0</td>\n",
       "      <td>0</td>\n",
       "      <td>0</td>\n",
       "      <td>0</td>\n",
       "      <td>0</td>\n",
       "      <td>0</td>\n",
       "      <td>0</td>\n",
       "      <td>0</td>\n",
       "      <td>...</td>\n",
       "      <td>0</td>\n",
       "      <td>0</td>\n",
       "      <td>0</td>\n",
       "      <td>0</td>\n",
       "      <td>0</td>\n",
       "      <td>0</td>\n",
       "      <td>0</td>\n",
       "      <td>0</td>\n",
       "      <td>0</td>\n",
       "      <td>0</td>\n",
       "    </tr>\n",
       "    <tr>\n",
       "      <th>59998</th>\n",
       "      <td>8</td>\n",
       "      <td>0</td>\n",
       "      <td>0</td>\n",
       "      <td>0</td>\n",
       "      <td>0</td>\n",
       "      <td>0</td>\n",
       "      <td>0</td>\n",
       "      <td>0</td>\n",
       "      <td>0</td>\n",
       "      <td>0</td>\n",
       "      <td>...</td>\n",
       "      <td>0</td>\n",
       "      <td>0</td>\n",
       "      <td>0</td>\n",
       "      <td>0</td>\n",
       "      <td>0</td>\n",
       "      <td>0</td>\n",
       "      <td>0</td>\n",
       "      <td>0</td>\n",
       "      <td>0</td>\n",
       "      <td>0</td>\n",
       "    </tr>\n",
       "    <tr>\n",
       "      <th>59999</th>\n",
       "      <td>9</td>\n",
       "      <td>0</td>\n",
       "      <td>0</td>\n",
       "      <td>0</td>\n",
       "      <td>0</td>\n",
       "      <td>0</td>\n",
       "      <td>0</td>\n",
       "      <td>0</td>\n",
       "      <td>0</td>\n",
       "      <td>0</td>\n",
       "      <td>...</td>\n",
       "      <td>0</td>\n",
       "      <td>0</td>\n",
       "      <td>0</td>\n",
       "      <td>0</td>\n",
       "      <td>0</td>\n",
       "      <td>0</td>\n",
       "      <td>0</td>\n",
       "      <td>0</td>\n",
       "      <td>0</td>\n",
       "      <td>0</td>\n",
       "    </tr>\n",
       "  </tbody>\n",
       "</table>\n",
       "<p>5 rows × 785 columns</p>\n",
       "</div>"
      ],
      "text/plain": [
       "       label  pixel0  pixel1  pixel2  pixel3  pixel4  pixel5  pixel6  pixel7  \\\n",
       "59995      5       0       0       0       0       0       0       0       0   \n",
       "59996      6       0       0       0       0       0       0       0       0   \n",
       "59997      7       0       0       0       0       0       0       0       0   \n",
       "59998      8       0       0       0       0       0       0       0       0   \n",
       "59999      9       0       0       0       0       0       0       0       0   \n",
       "\n",
       "       pixel8  ...  pixel774  pixel775  pixel776  pixel777  pixel778  \\\n",
       "59995       0  ...         0         0         0         0         0   \n",
       "59996       0  ...         0         0         0         0         0   \n",
       "59997       0  ...         0         0         0         0         0   \n",
       "59998       0  ...         0         0         0         0         0   \n",
       "59999       0  ...         0         0         0         0         0   \n",
       "\n",
       "       pixel779  pixel780  pixel781  pixel782  pixel783  \n",
       "59995         0         0         0         0         0  \n",
       "59996         0         0         0         0         0  \n",
       "59997         0         0         0         0         0  \n",
       "59998         0         0         0         0         0  \n",
       "59999         0         0         0         0         0  \n",
       "\n",
       "[5 rows x 785 columns]"
      ]
     },
     "execution_count": 4,
     "metadata": {},
     "output_type": "execute_result"
    }
   ],
   "source": [
    "import pandas as pd\n",
    "\n",
    "train = pd.read_csv(\"Kannada-MNIST/train.csv\")\n",
    "\n",
    "train.tail()"
   ]
  },
  {
   "cell_type": "markdown",
   "id": "4f053f63",
   "metadata": {
    "papermill": {
     "duration": 0.025023,
     "end_time": "2021-09-18T21:30:31.982994",
     "exception": false,
     "start_time": "2021-09-18T21:30:31.957971",
     "status": "completed"
    },
    "tags": []
   },
   "source": [
    "## Load image and label data"
   ]
  },
  {
   "cell_type": "code",
   "execution_count": 5,
   "id": "f2aff2b7",
   "metadata": {
    "execution": {
     "iopub.execute_input": "2021-09-18T21:30:32.041741Z",
     "iopub.status.busy": "2021-09-18T21:30:32.040958Z",
     "iopub.status.idle": "2021-09-18T21:30:32.046413Z",
     "shell.execute_reply": "2021-09-18T21:30:32.045041Z",
     "shell.execute_reply.started": "2021-09-18T21:22:23.652811Z"
    },
    "papermill": {
     "duration": 0.038726,
     "end_time": "2021-09-18T21:30:32.046731",
     "exception": false,
     "start_time": "2021-09-18T21:30:32.008005",
     "status": "completed"
    },
    "tags": []
   },
   "outputs": [
    {
     "name": "stdout",
     "output_type": "stream",
     "text": [
      "(60000, 784)\n",
      "(60000,)\n"
     ]
    }
   ],
   "source": [
    "x_train = train.iloc[:, 1:].to_numpy()\n",
    "y_train = train.iloc[:, 0].to_numpy()\n",
    "\n",
    "print(x_train.shape)\n",
    "print(y_train.shape)"
   ]
  },
  {
   "cell_type": "markdown",
   "id": "b05f748e",
   "metadata": {
    "papermill": {
     "duration": 0.025631,
     "end_time": "2021-09-18T21:30:32.098174",
     "exception": false,
     "start_time": "2021-09-18T21:30:32.072543",
     "status": "completed"
    },
    "tags": []
   },
   "source": [
    "## Plot an image"
   ]
  },
  {
   "cell_type": "code",
   "execution_count": 14,
   "id": "5407faa6",
   "metadata": {
    "execution": {
     "iopub.execute_input": "2021-09-18T21:30:32.173868Z",
     "iopub.status.busy": "2021-09-18T21:30:32.172966Z",
     "iopub.status.idle": "2021-09-18T21:30:32.731492Z",
     "shell.execute_reply": "2021-09-18T21:30:32.730272Z",
     "shell.execute_reply.started": "2021-09-18T21:22:32.537154Z"
    },
    "papermill": {
     "duration": 0.607405,
     "end_time": "2021-09-18T21:30:32.731758",
     "exception": false,
     "start_time": "2021-09-18T21:30:32.124353",
     "status": "completed"
    },
    "tags": []
   },
   "outputs": [
    {
     "data": {
      "image/png": "[encoded data removed]",
      "text/plain": [
       "<Figure size 1440x216 with 60 Axes>"
      ]
     },
     "metadata": {},
     "output_type": "display_data"
    }
   ],
   "source": [
    "i = 0\n",
    "plt.figure(figsize=(20,3))\n",
    "for i in range(60):\n",
    "    plt.subplot(3, 20, i+1)\n",
    "    plt.imshow(x_train[i], cmap=plt.cm.gray_r)\n",
    "        \n",
    "    plt.xticks([])\n",
    "    plt.yticks([])\n",
    "    plt.xlabel(y_train[i])\n",
    "plt.tight_layout()\n",
    "plt.show()"
   ]
  },
  {
   "cell_type": "markdown",
   "id": "e0a47a3c",
   "metadata": {
    "papermill": {
     "duration": 0.027675,
     "end_time": "2021-09-18T21:30:32.804113",
     "exception": false,
     "start_time": "2021-09-18T21:30:32.776438",
     "status": "completed"
    },
    "tags": []
   },
   "source": [
    "# Baseline Model - logistic regression"
   ]
  },
  {
   "cell_type": "code",
   "execution_count": 8,
   "id": "210b0b2b",
   "metadata": {
    "execution": {
     "iopub.execute_input": "2021-09-18T21:30:32.863442Z",
     "iopub.status.busy": "2021-09-18T21:30:32.862601Z",
     "iopub.status.idle": "2021-09-18T21:30:33.206470Z",
     "shell.execute_reply": "2021-09-18T21:30:33.207560Z",
     "shell.execute_reply.started": "2021-09-18T21:23:52.486478Z"
    },
    "papermill": {
     "duration": 0.377151,
     "end_time": "2021-09-18T21:30:33.207814",
     "exception": false,
     "start_time": "2021-09-18T21:30:32.830663",
     "status": "completed"
    },
    "tags": []
   },
   "outputs": [],
   "source": [
    "# scale and convert dtype\n",
    "\n",
    "x_train = x_train/255.\n",
    "x_train = x_train.astype(\"float32\")"
   ]
  },
  {
   "cell_type": "code",
   "execution_count": 9,
   "id": "19dbf320",
   "metadata": {
    "execution": {
     "iopub.execute_input": "2021-09-18T21:30:33.266815Z",
     "iopub.status.busy": "2021-09-18T21:30:33.266104Z",
     "iopub.status.idle": "2021-09-18T21:31:14.442964Z",
     "shell.execute_reply": "2021-09-18T21:31:14.443664Z",
     "shell.execute_reply.started": "2021-09-18T21:24:05.887867Z"
    },
    "papermill": {
     "duration": 41.207922,
     "end_time": "2021-09-18T21:31:14.443915",
     "exception": false,
     "start_time": "2021-09-18T21:30:33.235993",
     "status": "completed"
    },
    "tags": []
   },
   "outputs": [
    {
     "name": "stdout",
     "output_type": "stream",
     "text": [
      "Epoch 1/15\n",
      "1688/1688 [==============================] - 5s 2ms/step - loss: 2.3025 - accuracy: 0.1029 - val_loss: 2.3024 - val_accuracy: 0.1172\n",
      "Epoch 2/15\n",
      "1688/1688 [==============================] - 2s 954us/step - loss: 2.3024 - accuracy: 0.1054 - val_loss: 2.3022 - val_accuracy: 0.1375\n",
      "Epoch 3/15\n",
      "1688/1688 [==============================] - 1s 870us/step - loss: 2.3022 - accuracy: 0.1126 - val_loss: 2.3019 - val_accuracy: 0.0928\n",
      "Epoch 4/15\n",
      "1688/1688 [==============================] - 2s 1ms/step - loss: 2.3019 - accuracy: 0.1062 - val_loss: 2.3017 - val_accuracy: 0.1958\n",
      "Epoch 5/15\n",
      "1688/1688 [==============================] - 2s 922us/step - loss: 2.3018 - accuracy: 0.1222 - val_loss: 2.3015 - val_accuracy: 0.0998\n",
      "Epoch 6/15\n",
      "1688/1688 [==============================] - 2s 1ms/step - loss: 2.3016 - accuracy: 0.1204 - val_loss: 2.3013 - val_accuracy: 0.1475\n",
      "Epoch 7/15\n",
      "1688/1688 [==============================] - 2s 1ms/step - loss: 2.3014 - accuracy: 0.1490 - val_loss: 2.3011 - val_accuracy: 0.1103\n",
      "Epoch 8/15\n",
      "1688/1688 [==============================] - 2s 951us/step - loss: 2.3012 - accuracy: 0.1371 - val_loss: 2.3009 - val_accuracy: 0.2102\n",
      "Epoch 9/15\n",
      "1688/1688 [==============================] - 2s 891us/step - loss: 2.3009 - accuracy: 0.1513 - val_loss: 2.3007 - val_accuracy: 0.1002\n",
      "Epoch 10/15\n",
      "1688/1688 [==============================] - 2s 1ms/step - loss: 2.3008 - accuracy: 0.1307 - val_loss: 2.3005 - val_accuracy: 0.1117\n",
      "Epoch 11/15\n",
      "1688/1688 [==============================] - 1s 843us/step - loss: 2.3006 - accuracy: 0.1447 - val_loss: 2.3003 - val_accuracy: 0.2492\n",
      "Epoch 12/15\n",
      "1688/1688 [==============================] - 1s 817us/step - loss: 2.3004 - accuracy: 0.1777 - val_loss: 2.3001 - val_accuracy: 0.1888\n",
      "Epoch 13/15\n",
      "1688/1688 [==============================] - 2s 959us/step - loss: 2.3002 - accuracy: 0.1602 - val_loss: 2.2999 - val_accuracy: 0.1000\n",
      "Epoch 14/15\n",
      "1688/1688 [==============================] - 2s 996us/step - loss: 2.3000 - accuracy: 0.1194 - val_loss: 2.2996 - val_accuracy: 0.1837\n",
      "Epoch 15/15\n",
      "1688/1688 [==============================] - 2s 919us/step - loss: 2.2998 - accuracy: 0.1954 - val_loss: 2.2994 - val_accuracy: 0.1745\n"
     ]
    }
   ],
   "source": [
    "import tensorflow as tf\n",
    "from tensorflow.keras.models import Sequential\n",
    "from tensorflow.keras.layers import Dense, Conv2D, MaxPooling2D, Dropout, Flatten\n",
    "\n",
    "mlp = Sequential([\n",
    "    Dense(10, input_shape = (784, ), activation = \"softmax\")\n",
    "])\n",
    "\n",
    "mlp.compile(loss = \"sparse_categorical_crossentropy\",\n",
    "            optimizer = \"sgd\",\n",
    "            metrics = [\"accuracy\"])\n",
    "\n",
    "history = mlp.fit(x_train, y_train, epochs = 15, validation_split = 0.1)"
   ]
  },
  {
   "cell_type": "code",
   "execution_count": 10,
   "id": "6df63746",
   "metadata": {
    "execution": {
     "iopub.execute_input": "2021-09-18T21:31:14.936675Z",
     "iopub.status.busy": "2021-09-18T21:31:14.935890Z",
     "iopub.status.idle": "2021-09-18T21:31:15.442931Z",
     "shell.execute_reply": "2021-09-18T21:31:15.442363Z"
    },
    "papermill": {
     "duration": 0.75624,
     "end_time": "2021-09-18T21:31:15.443090",
     "exception": false,
     "start_time": "2021-09-18T21:31:14.686850",
     "status": "completed"
    },
    "tags": []
   },
   "outputs": [
    {
     "data": {
      "text/plain": [
       "<Figure size 432x288 with 0 Axes>"
      ]
     },
     "execution_count": 10,
     "metadata": {},
     "output_type": "execute_result"
    },
    {
     "data": {
      "image/png": "[encoded data removed]",
      "text/plain": [
       "<Figure size 432x288 with 1 Axes>"
      ]
     },
     "metadata": {
      "needs_background": "light"
     },
     "output_type": "display_data"
    },
    {
     "data": {
      "image/png": "[encoded data removed]",
      "text/plain": [
       "<Figure size 432x288 with 1 Axes>"
      ]
     },
     "metadata": {
      "needs_background": "light"
     },
     "output_type": "display_data"
    },
    {
     "data": {
      "text/plain": [
       "<Figure size 432x288 with 0 Axes>"
      ]
     },
     "metadata": {},
     "output_type": "display_data"
    }
   ],
   "source": [
    "train_acc = history.history[\"accuracy\"]\n",
    "train_loss = history.history[\"loss\"]\n",
    "val_acc = history.history[\"val_accuracy\"]\n",
    "val_loss = history.history[\"val_loss\"]\n",
    "\n",
    "epochs = range(len(train_acc))\n",
    "\n",
    "plt.plot(epochs, train_acc, \"o-g\", label = \"Train\")\n",
    "plt.plot(epochs, val_acc, \"o-b\", label = \"Validation\")\n",
    "plt.title(\"Accuracy\")\n",
    "plt.legend()\n",
    "plt.figure()\n",
    "\n",
    "plt.plot(epochs, train_loss, \"o-g\", label = \"Train\")\n",
    "plt.plot(epochs, val_loss, \"o-b\", label = \"Validation\")\n",
    "plt.title(\"Loss\")\n",
    "plt.legend()\n",
    "plt.figure()"
   ]
  },
  {
   "cell_type": "markdown",
   "id": "0e714f4c",
   "metadata": {
    "papermill": {
     "duration": 0.251284,
     "end_time": "2021-09-18T21:31:15.945430",
     "exception": false,
     "start_time": "2021-09-18T21:31:15.694146",
     "status": "completed"
    },
    "tags": []
   },
   "source": [
    "## Simple CNN"
   ]
  },
  {
   "cell_type": "code",
   "execution_count": 11,
   "id": "5aca16d4",
   "metadata": {
    "execution": {
     "iopub.execute_input": "2021-09-18T21:31:16.443982Z",
     "iopub.status.busy": "2021-09-18T21:31:16.443285Z",
     "iopub.status.idle": "2021-09-18T21:31:16.449508Z",
     "shell.execute_reply": "2021-09-18T21:31:16.448895Z",
     "shell.execute_reply.started": "2021-09-18T21:24:43.435197Z"
    },
    "papermill": {
     "duration": 0.25723,
     "end_time": "2021-09-18T21:31:16.449672",
     "exception": false,
     "start_time": "2021-09-18T21:31:16.192442",
     "status": "completed"
    },
    "tags": []
   },
   "outputs": [
    {
     "name": "stdout",
     "output_type": "stream",
     "text": [
      "(60000, 28, 28, 1)\n",
      "float32\n"
     ]
    }
   ],
   "source": [
    "x_train = x_train.reshape(-1, 28, 28, 1)\n",
    "print(x_train.shape)\n",
    "print(x_train.dtype)"
   ]
  },
  {
   "cell_type": "code",
   "execution_count": 12,
   "id": "b5124a12",
   "metadata": {
    "execution": {
     "iopub.execute_input": "2021-09-18T21:31:17.174154Z",
     "iopub.status.busy": "2021-09-18T21:31:16.974478Z",
     "iopub.status.idle": "2021-09-18T21:39:19.625022Z",
     "shell.execute_reply": "2021-09-18T21:39:19.624033Z"
    },
    "papermill": {
     "duration": 482.92582,
     "end_time": "2021-09-18T21:39:19.625258",
     "exception": false,
     "start_time": "2021-09-18T21:31:16.699438",
     "status": "completed"
    },
    "tags": []
   },
   "outputs": [
    {
     "name": "stdout",
     "output_type": "stream",
     "text": [
      "Epoch 1/10\n",
      "1688/1688 [==============================] - 67s 39ms/step - loss: 0.9827 - accuracy: 0.6556 - val_loss: 0.0882 - val_accuracy: 0.9728\n",
      "Epoch 2/10\n",
      "1688/1688 [==============================] - 66s 39ms/step - loss: 0.1466 - accuracy: 0.9559 - val_loss: 0.0704 - val_accuracy: 0.9800\n",
      "Epoch 3/10\n",
      "1688/1688 [==============================] - 65s 39ms/step - loss: 0.1080 - accuracy: 0.9663 - val_loss: 0.0511 - val_accuracy: 0.9847\n",
      "Epoch 4/10\n",
      "1688/1688 [==============================] - 67s 40ms/step - loss: 0.0834 - accuracy: 0.9735 - val_loss: 0.0405 - val_accuracy: 0.9872\n",
      "Epoch 5/10\n",
      "1688/1688 [==============================] - 64s 38ms/step - loss: 0.0678 - accuracy: 0.9779 - val_loss: 0.0487 - val_accuracy: 0.9838\n",
      "Epoch 6/10\n",
      "1688/1688 [==============================] - 67s 40ms/step - loss: 0.0535 - accuracy: 0.9833 - val_loss: 0.0329 - val_accuracy: 0.9915\n",
      "Epoch 7/10\n",
      "1688/1688 [==============================] - 67s 40ms/step - loss: 0.0459 - accuracy: 0.9866 - val_loss: 0.0316 - val_accuracy: 0.9902\n",
      "Epoch 8/10\n",
      "1688/1688 [==============================] - 66s 39ms/step - loss: 0.0375 - accuracy: 0.9876 - val_loss: 0.0282 - val_accuracy: 0.9925\n",
      "Epoch 9/10\n",
      "1688/1688 [==============================] - 67s 40ms/step - loss: 0.0334 - accuracy: 0.9895 - val_loss: 0.0356 - val_accuracy: 0.9898\n",
      "Epoch 10/10\n",
      "1688/1688 [==============================] - 69s 41ms/step - loss: 0.0265 - accuracy: 0.9914 - val_loss: 0.0275 - val_accuracy: 0.9932\n"
     ]
    }
   ],
   "source": [
    "simple_model = Sequential([\n",
    "                Conv2D(filters = 32, kernel_size = (5, 5), padding = \"same\", input_shape = (28, 28, 1),\n",
    "                      activation = \"relu\"),\n",
    "                MaxPooling2D(),\n",
    "                Conv2D(filters = 64, kernel_size = (3, 3), padding = \"same\",\n",
    "                      activation = \"relu\"),\n",
    "                MaxPooling2D(),\n",
    "                Flatten(),\n",
    "                Dense(256, activation = \"relu\"),\n",
    "                Dense(10, activation = \"softmax\")\n",
    "])\n",
    "\n",
    "simple_model.compile(loss = \"sparse_categorical_crossentropy\",\n",
    "              optimizer = \"adam\",\n",
    "              metrics = [\"accuracy\"])\n",
    "\n",
    "history = simple_model.fit(x_train, y_train, epochs = 10, validation_split = 0.1)"
   ]
  },
  {
   "cell_type": "code",
   "execution_count": 135,
   "id": "6ae750de",
   "metadata": {
    "scrolled": true
   },
   "outputs": [
    {
     "name": "stdout",
     "output_type": "stream",
     "text": [
      "Model: \"sequential_1\"\n",
      "_________________________________________________________________\n",
      "Layer (type)                 Output Shape              Param #   \n",
      "=================================================================\n",
      "conv2d (Conv2D)              (None, 28, 28, 32)        832       \n",
      "_________________________________________________________________\n",
      "max_pooling2d (MaxPooling2D) (None, 14, 14, 32)        0         \n",
      "_________________________________________________________________\n",
      "conv2d_1 (Conv2D)            (None, 14, 14, 64)        18496     \n",
      "_________________________________________________________________\n",
      "max_pooling2d_1 (MaxPooling2 (None, 7, 7, 64)          0         \n",
      "_________________________________________________________________\n",
      "flatten (Flatten)            (None, 3136)              0         \n",
      "_________________________________________________________________\n",
      "dense_1 (Dense)              (None, 256)               803072    \n",
      "_________________________________________________________________\n",
      "dense_2 (Dense)              (None, 10)                2570      \n",
      "=================================================================\n",
      "Total params: 824,970\n",
      "Trainable params: 824,970\n",
      "Non-trainable params: 0\n",
      "_________________________________________________________________\n"
     ]
    }
   ],
   "source": [
    "simple_model.summary()"
   ]
  },
  {
   "cell_type": "code",
   "execution_count": 25,
   "id": "f18f1072",
   "metadata": {},
   "outputs": [
    {
     "name": "stdout",
     "output_type": "stream",
     "text": [
      "320/320 [==============================] - 3s 10ms/step - loss: 498.4742 - accuracy: 0.6906\n",
      "\n",
      "Test Accuracy: 0.690625011920929\n",
      "\n",
      "Test Loss: 498.4742126464844\n"
     ]
    }
   ],
   "source": [
    "test_loss, test_acc = simple_model.evaluate(x_test, y_test)\n",
    "print('\\nTest Accuracy:', test_acc)\n",
    "print('\\nTest Loss:', test_loss)"
   ]
  },
  {
   "cell_type": "markdown",
   "id": "dc246cda",
   "metadata": {
    "papermill": {
     "duration": 3.088147,
     "end_time": "2021-09-18T21:39:25.835393",
     "exception": false,
     "start_time": "2021-09-18T21:39:22.747246",
     "status": "completed"
    },
    "tags": []
   },
   "source": [
    "## Build a better model "
   ]
  },
  {
   "cell_type": "markdown",
   "id": "7f267a6e",
   "metadata": {
    "papermill": {
     "duration": 3.052398,
     "end_time": "2021-09-18T21:39:31.970874",
     "exception": false,
     "start_time": "2021-09-18T21:39:28.918476",
     "status": "completed"
    },
    "tags": []
   },
   "source": [
    "## Early Stopping Callback"
   ]
  },
  {
   "cell_type": "code",
   "execution_count": 15,
   "id": "ab1352ca",
   "metadata": {
    "execution": {
     "iopub.execute_input": "2021-09-18T21:39:38.129583Z",
     "iopub.status.busy": "2021-09-18T21:39:38.128556Z",
     "iopub.status.idle": "2021-09-18T21:39:38.132099Z",
     "shell.execute_reply": "2021-09-18T21:39:38.131473Z",
     "shell.execute_reply.started": "2021-09-18T21:24:55.460751Z"
    },
    "papermill": {
     "duration": 3.123662,
     "end_time": "2021-09-18T21:39:38.132287",
     "exception": false,
     "start_time": "2021-09-18T21:39:35.008625",
     "status": "completed"
    },
    "tags": []
   },
   "outputs": [],
   "source": [
    "from tensorflow.keras.callbacks import EarlyStopping\n",
    "\n",
    "es = EarlyStopping(monitor='val_loss', patience = 3) \n",
    "# patience: Number of epochs with no improvement after which training will be stopped."
   ]
  },
  {
   "cell_type": "code",
   "execution_count": 34,
   "id": "9e7f2874",
   "metadata": {
    "execution": {
     "iopub.execute_input": "2021-09-18T21:39:44.250003Z",
     "iopub.status.busy": "2021-09-18T21:39:44.249312Z",
     "iopub.status.idle": "2021-09-18T21:45:31.159426Z",
     "shell.execute_reply": "2021-09-18T21:45:31.159993Z",
     "shell.execute_reply.started": "2021-09-18T21:25:06.474566Z"
    },
    "papermill": {
     "duration": 349.990407,
     "end_time": "2021-09-18T21:45:31.160251",
     "exception": false,
     "start_time": "2021-09-18T21:39:41.169844",
     "status": "completed"
    },
    "tags": []
   },
   "outputs": [
    {
     "name": "stdout",
     "output_type": "stream",
     "text": [
      "Epoch 1/20\n",
      "1688/1688 [==============================] - 121s 71ms/step - loss: 2.3028 - accuracy: 0.1003 - val_loss: 2.3027 - val_accuracy: 0.1000\n",
      "Epoch 2/20\n",
      "1688/1688 [==============================] - 135s 80ms/step - loss: 2.3028 - accuracy: 0.0986 - val_loss: 2.3026 - val_accuracy: 0.1000\n",
      "Epoch 3/20\n",
      "1688/1688 [==============================] - 138s 82ms/step - loss: 2.3028 - accuracy: 0.0966 - val_loss: 2.3027 - val_accuracy: 0.1000\n",
      "Epoch 4/20\n",
      "1688/1688 [==============================] - 137s 81ms/step - loss: 2.3028 - accuracy: 0.0974 - val_loss: 2.3027 - val_accuracy: 0.1000\n",
      "Epoch 5/20\n",
      "1688/1688 [==============================] - 114s 67ms/step - loss: 2.3028 - accuracy: 0.0952 - val_loss: 2.3026 - val_accuracy: 0.1000\n"
     ]
    }
   ],
   "source": [
    "model = Sequential([\n",
    "    Conv2D(filters = 32, kernel_size = (3, 3), padding = \"same\", activation = \"relu\", input_shape = (28, 28, 1)),\n",
    "    MaxPooling2D(),\n",
    "    Conv2D(filters = 64, kernel_size = (5, 5), padding = \"same\", activation = \"relu\", input_shape = (28, 28, 1)),\n",
    "    MaxPooling2D(),\n",
    "    Conv2D(filters = 32, kernel_size = (3, 3), padding = \"same\", activation = \"relu\", input_shape = (28, 28, 1)),\n",
    "    MaxPooling2D(),\n",
    "    Flatten(),\n",
    "    Dense(50, activation = \"relu\"),\n",
    "    Dropout(0.5),\n",
    "    Dense(10, activation = \"softmax\")\n",
    "])\n",
    "\n",
    "model.compile(loss = \"sparse_categorical_crossentropy\",\n",
    "              optimizer = \"adam\",\n",
    "              metrics = [\"accuracy\"])\n",
    "\n",
    "history = model.fit(x_train, y_train, epochs = 20, validation_split = 0.1,\n",
    "                   callbacks = [es])"
   ]
  },
  {
   "cell_type": "code",
   "execution_count": 92,
   "id": "4ed03161",
   "metadata": {},
   "outputs": [
    {
     "name": "stdout",
     "output_type": "stream",
     "text": [
      "Model: \"sequential_4\"\n",
      "_________________________________________________________________\n",
      "Layer (type)                 Output Shape              Param #   \n",
      "=================================================================\n",
      "conv2d_6 (Conv2D)            (None, 28, 28, 32)        320       \n",
      "_________________________________________________________________\n",
      "max_pooling2d_6 (MaxPooling2 (None, 14, 14, 32)        0         \n",
      "_________________________________________________________________\n",
      "conv2d_7 (Conv2D)            (None, 14, 14, 64)        51264     \n",
      "_________________________________________________________________\n",
      "max_pooling2d_7 (MaxPooling2 (None, 7, 7, 64)          0         \n",
      "_________________________________________________________________\n",
      "conv2d_8 (Conv2D)            (None, 7, 7, 32)          18464     \n",
      "_________________________________________________________________\n",
      "max_pooling2d_8 (MaxPooling2 (None, 3, 3, 32)          0         \n",
      "_________________________________________________________________\n",
      "flatten_3 (Flatten)          (None, 288)               0         \n",
      "_________________________________________________________________\n",
      "dense_7 (Dense)              (None, 50)                14450     \n",
      "_________________________________________________________________\n",
      "dropout_2 (Dropout)          (None, 50)                0         \n",
      "_________________________________________________________________\n",
      "dense_8 (Dense)              (None, 10)                510       \n",
      "=================================================================\n",
      "Total params: 85,008\n",
      "Trainable params: 85,008\n",
      "Non-trainable params: 0\n",
      "_________________________________________________________________\n"
     ]
    }
   ],
   "source": [
    "model.summary()"
   ]
  },
  {
   "cell_type": "markdown",
   "id": "9906c1cf",
   "metadata": {
    "papermill": {
     "duration": 4.926537,
     "end_time": "2021-09-18T21:45:41.107448",
     "exception": false,
     "start_time": "2021-09-18T21:45:36.180911",
     "status": "completed"
    },
    "tags": []
   },
   "source": [
    "# Evaluate using test set"
   ]
  },
  {
   "cell_type": "code",
   "execution_count": 93,
   "id": "c7c65443",
   "metadata": {
    "execution": {
     "iopub.execute_input": "2021-09-18T21:45:51.093903Z",
     "iopub.status.busy": "2021-09-18T21:45:51.093175Z",
     "iopub.status.idle": "2021-09-18T21:45:52.105952Z",
     "shell.execute_reply": "2021-09-18T21:45:52.106544Z",
     "shell.execute_reply.started": "2021-09-18T21:29:17.990262Z"
    },
    "papermill": {
     "duration": 5.974834,
     "end_time": "2021-09-18T21:45:52.106737",
     "exception": false,
     "start_time": "2021-09-18T21:45:46.131903",
     "status": "completed"
    },
    "tags": []
   },
   "outputs": [
    {
     "name": "stdout",
     "output_type": "stream",
     "text": [
      "(10240, 784)\n",
      "(10240,)\n"
     ]
    }
   ],
   "source": [
    "dig_mnist = pd.read_csv(\"Kannada-MNIST/Dig-MNIST.csv\")\n",
    "\n",
    "x_test = dig_mnist.iloc[:, 1:].to_numpy()\n",
    "y_test = dig_mnist.iloc[:, 0].to_numpy()\n",
    "\n",
    "print(x_test.shape)\n",
    "print(y_test.shape)"
   ]
  },
  {
   "cell_type": "code",
   "execution_count": 94,
   "id": "fc8b9a74",
   "metadata": {
    "execution": {
     "iopub.execute_input": "2021-09-18T21:46:02.276899Z",
     "iopub.status.busy": "2021-09-18T21:46:02.276009Z",
     "iopub.status.idle": "2021-09-18T21:46:02.334364Z",
     "shell.execute_reply": "2021-09-18T21:46:02.335261Z",
     "shell.execute_reply.started": "2021-09-18T21:29:20.781250Z"
    },
    "papermill": {
     "duration": 5.160334,
     "end_time": "2021-09-18T21:46:02.335518",
     "exception": false,
     "start_time": "2021-09-18T21:45:57.175184",
     "status": "completed"
    },
    "tags": []
   },
   "outputs": [
    {
     "name": "stdout",
     "output_type": "stream",
     "text": [
      "(10240, 28, 28, 1)\n"
     ]
    }
   ],
   "source": [
    "x_test = x_test/255.\n",
    "\n",
    "x_test = x_test.reshape(-1, 28, 28, 1).astype(\"float32\")\n",
    "print(x_test.shape)"
   ]
  },
  {
   "cell_type": "code",
   "execution_count": 95,
   "id": "94b03b10",
   "metadata": {
    "execution": {
     "iopub.execute_input": "2021-09-18T21:46:12.335728Z",
     "iopub.status.busy": "2021-09-18T21:46:12.334584Z",
     "iopub.status.idle": "2021-09-18T21:46:12.546193Z",
     "shell.execute_reply": "2021-09-18T21:46:12.545625Z"
    },
    "papermill": {
     "duration": 5.320607,
     "end_time": "2021-09-18T21:46:12.546368",
     "exception": false,
     "start_time": "2021-09-18T21:46:07.225761",
     "status": "completed"
    },
    "tags": []
   },
   "outputs": [
    {
     "name": "stdout",
     "output_type": "stream",
     "text": [
      "0\n"
     ]
    },
    {
     "data": {
      "image/png": "[encoded data removed]",
      "text/plain": [
       "<Figure size 432x288 with 1 Axes>"
      ]
     },
     "metadata": {
      "needs_background": "light"
     },
     "output_type": "display_data"
    }
   ],
   "source": [
    "one_image = x_test[0]\n",
    "plt.imshow(one_image.squeeze(), cmap = plt.cm.gray_r)\n",
    "print(y_test[0])"
   ]
  },
  {
   "cell_type": "code",
   "execution_count": 96,
   "id": "46785d18",
   "metadata": {
    "execution": {
     "iopub.execute_input": "2021-09-18T21:46:22.570129Z",
     "iopub.status.busy": "2021-09-18T21:46:22.569062Z",
     "iopub.status.idle": "2021-09-18T21:46:22.715382Z",
     "shell.execute_reply": "2021-09-18T21:46:22.714697Z"
    },
    "papermill": {
     "duration": 5.056208,
     "end_time": "2021-09-18T21:46:22.715548",
     "exception": false,
     "start_time": "2021-09-18T21:46:17.659340",
     "status": "completed"
    },
    "tags": []
   },
   "outputs": [
    {
     "data": {
      "text/plain": [
       "array([[0.10829184, 0.09245615, 0.08156153, 0.08418436, 0.07009254,\n",
       "        0.10878406, 0.10791186, 0.09842893, 0.12444254, 0.1238462 ]],\n",
       "      dtype=float32)"
      ]
     },
     "execution_count": 96,
     "metadata": {},
     "output_type": "execute_result"
    }
   ],
   "source": [
    "model.predict(one_image.reshape(1, 28, 28, 1))"
   ]
  },
  {
   "cell_type": "code",
   "execution_count": 97,
   "id": "79f809d6",
   "metadata": {
    "execution": {
     "iopub.execute_input": "2021-09-18T21:46:32.870817Z",
     "iopub.status.busy": "2021-09-18T21:46:32.870082Z",
     "iopub.status.idle": "2021-09-18T21:46:35.570290Z",
     "shell.execute_reply": "2021-09-18T21:46:35.569667Z",
     "shell.execute_reply.started": "2021-09-18T21:29:42.206900Z"
    },
    "papermill": {
     "duration": 7.704991,
     "end_time": "2021-09-18T21:46:35.570457",
     "exception": false,
     "start_time": "2021-09-18T21:46:27.865466",
     "status": "completed"
    },
    "tags": []
   },
   "outputs": [
    {
     "name": "stdout",
     "output_type": "stream",
     "text": [
      "320/320 [==============================] - 5s 14ms/step - loss: 2.3049 - accuracy: 0.1062\n",
      "\n",
      "Test Accuracy: 0.10615234076976776\n",
      "\n",
      "Test Loss: 2.3048839569091797\n"
     ]
    }
   ],
   "source": [
    "test_loss, test_acc = model.evaluate(x_test, y_test)\n",
    "print('\\nTest Accuracy:', test_acc)\n",
    "print('\\nTest Loss:', test_loss)"
   ]
  },
  {
   "cell_type": "markdown",
   "id": "c3e04958",
   "metadata": {
    "papermill": {
     "duration": 4.980012,
     "end_time": "2021-09-18T21:46:45.512166",
     "exception": false,
     "start_time": "2021-09-18T21:46:40.532154",
     "status": "completed"
    },
    "tags": []
   },
   "source": [
    "## Make predictions on real test set and submit"
   ]
  },
  {
   "cell_type": "code",
   "execution_count": 98,
   "id": "45b24b62",
   "metadata": {
    "execution": {
     "iopub.execute_input": "2021-09-18T21:46:55.496867Z",
     "iopub.status.busy": "2021-09-18T21:46:55.496111Z",
     "iopub.status.idle": "2021-09-18T21:46:56.064416Z",
     "shell.execute_reply": "2021-09-18T21:46:56.063711Z",
     "shell.execute_reply.started": "2021-09-18T21:29:50.643788Z"
    },
    "papermill": {
     "duration": 5.598815,
     "end_time": "2021-09-18T21:46:56.064582",
     "exception": false,
     "start_time": "2021-09-18T21:46:50.465767",
     "status": "completed"
    },
    "tags": []
   },
   "outputs": [],
   "source": [
    "real_test = pd.read_csv('Kannada-MNIST/test.csv')\n",
    "real_test.head()\n",
    "real_test = real_test.iloc[:, 1:].to_numpy()\n",
    "real_test = real_test/255.\n",
    "real_test.shape\n",
    "real_test_2d = real_test.reshape(-1, 28, 28, 1)"
   ]
  },
  {
   "cell_type": "code",
   "execution_count": 99,
   "id": "ba682f61",
   "metadata": {
    "execution": {
     "iopub.execute_input": "2021-09-18T21:47:06.076355Z",
     "iopub.status.busy": "2021-09-18T21:47:06.075202Z",
     "iopub.status.idle": "2021-09-18T21:47:06.101502Z",
     "shell.execute_reply": "2021-09-18T21:47:06.100908Z",
     "shell.execute_reply.started": "2021-09-18T21:29:54.831042Z"
    },
    "papermill": {
     "duration": 5.027336,
     "end_time": "2021-09-18T21:47:06.101673",
     "exception": false,
     "start_time": "2021-09-18T21:47:01.074337",
     "status": "completed"
    },
    "tags": []
   },
   "outputs": [
    {
     "data": {
      "text/html": [
       "<div>\n",
       "<style scoped>\n",
       "    .dataframe tbody tr th:only-of-type {\n",
       "        vertical-align: middle;\n",
       "    }\n",
       "\n",
       "    .dataframe tbody tr th {\n",
       "        vertical-align: top;\n",
       "    }\n",
       "\n",
       "    .dataframe thead th {\n",
       "        text-align: right;\n",
       "    }\n",
       "</style>\n",
       "<table border=\"1\" class=\"dataframe\">\n",
       "  <thead>\n",
       "    <tr style=\"text-align: right;\">\n",
       "      <th></th>\n",
       "      <th>id</th>\n",
       "      <th>label</th>\n",
       "    </tr>\n",
       "  </thead>\n",
       "  <tbody>\n",
       "    <tr>\n",
       "      <th>0</th>\n",
       "      <td>0</td>\n",
       "      <td>5</td>\n",
       "    </tr>\n",
       "    <tr>\n",
       "      <th>1</th>\n",
       "      <td>1</td>\n",
       "      <td>5</td>\n",
       "    </tr>\n",
       "    <tr>\n",
       "      <th>2</th>\n",
       "      <td>2</td>\n",
       "      <td>5</td>\n",
       "    </tr>\n",
       "    <tr>\n",
       "      <th>3</th>\n",
       "      <td>3</td>\n",
       "      <td>5</td>\n",
       "    </tr>\n",
       "    <tr>\n",
       "      <th>4</th>\n",
       "      <td>4</td>\n",
       "      <td>5</td>\n",
       "    </tr>\n",
       "  </tbody>\n",
       "</table>\n",
       "</div>"
      ],
      "text/plain": [
       "   id  label\n",
       "0   0      5\n",
       "1   1      5\n",
       "2   2      5\n",
       "3   3      5\n",
       "4   4      5"
      ]
     },
     "execution_count": 99,
     "metadata": {},
     "output_type": "execute_result"
    }
   ],
   "source": [
    "sample_submit = pd.read_csv(\"Kannada-MNIST/sample_submission.csv\")\n",
    "sample_submit.head()"
   ]
  },
  {
   "cell_type": "code",
   "execution_count": 100,
   "id": "67985b29",
   "metadata": {
    "execution": {
     "iopub.execute_input": "2021-09-18T21:47:16.071796Z",
     "iopub.status.busy": "2021-09-18T21:47:16.071069Z",
     "iopub.status.idle": "2021-09-18T21:47:17.160361Z",
     "shell.execute_reply": "2021-09-18T21:47:17.159589Z",
     "shell.execute_reply.started": "2021-09-18T21:29:57.489032Z"
    },
    "papermill": {
     "duration": 6.084983,
     "end_time": "2021-09-18T21:47:17.160541",
     "exception": false,
     "start_time": "2021-09-18T21:47:11.075558",
     "status": "completed"
    },
    "tags": []
   },
   "outputs": [],
   "source": [
    "predictions = model.predict(real_test_2d)\n",
    "predictions.shape\n",
    "\n",
    "sample_submit[\"label\"] = predictions.argmax(axis = 1)"
   ]
  },
  {
   "cell_type": "code",
   "execution_count": 101,
   "id": "37fa4bd2",
   "metadata": {
    "execution": {
     "iopub.execute_input": "2021-09-18T21:47:27.257994Z",
     "iopub.status.busy": "2021-09-18T21:47:27.256877Z",
     "iopub.status.idle": "2021-09-18T21:47:27.274050Z",
     "shell.execute_reply": "2021-09-18T21:47:27.273467Z",
     "shell.execute_reply.started": "2021-09-18T21:30:02.260672Z"
    },
    "papermill": {
     "duration": 4.983267,
     "end_time": "2021-09-18T21:47:27.274257",
     "exception": false,
     "start_time": "2021-09-18T21:47:22.290990",
     "status": "completed"
    },
    "tags": []
   },
   "outputs": [],
   "source": [
    "sample_submit.to_csv(\"submission.csv\", index = False)"
   ]
  },
  {
   "cell_type": "markdown",
   "id": "50c123d0",
   "metadata": {},
   "source": [
    "# Feature Maps Visualization"
   ]
  },
  {
   "cell_type": "code",
   "execution_count": 102,
   "id": "ee89b206",
   "metadata": {},
   "outputs": [
    {
     "name": "stdout",
     "output_type": "stream",
     "text": [
      "0 conv2d_6 (None, 28, 28, 32)\n",
      "2 conv2d_7 (None, 14, 14, 64)\n",
      "4 conv2d_8 (None, 7, 7, 32)\n"
     ]
    }
   ],
   "source": [
    "for i in range(len(model.layers)):\n",
    "\tlayer = model.layers[i]\n",
    "\t# check for convolutional layer\n",
    "\tif 'conv' not in layer.name:\n",
    "\t\tcontinue\n",
    "\t# summarize output shape\n",
    "\tprint(i, layer.name, layer.output.shape)"
   ]
  },
  {
   "cell_type": "code",
   "execution_count": 103,
   "id": "a257e80a",
   "metadata": {},
   "outputs": [],
   "source": [
    "from matplotlib import pyplot"
   ]
  },
  {
   "cell_type": "code",
   "execution_count": 115,
   "id": "a44d4b16",
   "metadata": {},
   "outputs": [
    {
     "data": {
      "image/png": "[encoded data removed]",
      "text/plain": [
       "<Figure size 432x288 with 18 Axes>"
      ]
     },
     "metadata": {},
     "output_type": "display_data"
    }
   ],
   "source": [
    "filters, biases = model.layers[0].get_weights()\n",
    "# normalize filter values to 0-1 so we can visualize them\n",
    "f_min, f_max = filters.min(), filters.max()\n",
    "filters = (filters - f_min) / (f_max - f_min)\n",
    "# plot first few filters\n",
    "n_filters, ix = 6, 1\n",
    "for i in range(n_filters):\n",
    "\t# get the filter\n",
    "\tf = filters[:, :, :, i]\n",
    "\t# plot each channel separately\n",
    "\tfor j in range(3):\n",
    "\t\t# specify subplot and turn of axis\n",
    "\t\tax = pyplot.subplot(n_filters, 3, ix)\n",
    "\t\tax.set_xticks([])\n",
    "\t\tax.set_yticks([])\n",
    "\t\t# plot filter channel in grayscale\n",
    "\t\tpyplot.imshow(f[ :, j], cmap='gray_r')\n",
    "\t\tix += 1\n",
    "# show the figure\n",
    "pyplot.show()"
   ]
  },
  {
   "cell_type": "code",
   "execution_count": null,
   "id": "b2249be9",
   "metadata": {},
   "outputs": [],
   "source": []
  }
 ],
 "metadata": {
  "kernelspec": {
   "display_name": "Python 3 (ipykernel)",
   "language": "python",
   "name": "python3"
  },
  "language_info": {
   "codemirror_mode": {
    "name": "ipython",
    "version": 3
   },
   "file_extension": ".py",
   "mimetype": "text/x-python",
   "name": "python",
   "nbconvert_exporter": "python",
   "pygments_lexer": "ipython3",
   "version": "3.8.12"
  },
  "papermill": {
   "default_parameters": {},
   "duration": 1038.292095,
   "end_time": "2021-09-18T21:47:34.635765",
   "environment_variables": {},
   "exception": null,
   "input_path": "__notebook__.ipynb",
   "output_path": "__notebook__.ipynb",
   "parameters": {},
   "start_time": "2021-09-18T21:30:16.343670",
   "version": "2.3.3"
  }
 },
 "nbformat": 4,
 "nbformat_minor": 5
}
